{
 "cells": [
  {
   "cell_type": "markdown",
   "metadata": {},
   "source": [
    "## Graph Theory \n",
    "\n",
    "If vertices x and y are endpoints of one edge in a graph, then x and y are said to be adjacent to each other \n",
    "\n",
    "The adjacency matrix of a graph $G$ is the $v$ by $v$ matrix A where $a_{ij} =  \\begin{cases} \n",
    "      1 & x_i \\sim y_j \\\\\n",
    "      0 & \\text{otherwise}\n",
    "   \\end{cases}$"
   ]
  },
  {
   "cell_type": "markdown",
   "metadata": {},
   "source": [
    "## The Problem:\n",
    "\\begin{equation*}\n",
    "\\frac{d}{dt} \\textbf{p} = \\alpha \\sum_{j} a_{ij}(\\textbf{p}_j - \\textbf{p}_i )~, ~~~~ \n",
    "a_{ij} = a_{ij}( \\mathbf{x} ) = \\frac{1}{ \\sigma_i } \\phi(| \\mathbf{x}_i - \\mathbf{x}_j |), ~~~ i \\in \\mathcal{C}\n",
    "\\end{equation*}\n",
    "\n",
    "\n",
    "Symmetric Model: $\\sigma_i = N$ \n",
    "\n",
    "Non-Symmetric Model: $\\sigma_i = \\sum_{j \\neq i} \\phi(| \\mathbf{x}_i - \\mathbf{x}_j |)$\n",
    "\n",
    "Opinion Dynamics: $\\mathbf{p} \\mapsto \\mathbf{x}$\n",
    "\n",
    "Flocking Dynamics: $\\mathbf{p} \\mapsto \\dot{\\mathbf{x}}$\n",
    "\n"
   ]
  },
  {
   "cell_type": "markdown",
   "metadata": {},
   "source": []
  },
  {
   "cell_type": "markdown",
   "metadata": {},
   "source": [
    "# 2. Local Interactions and Clustering\n",
    "\n",
    "\n",
    "$\\textbf{Pretext:}$ \n",
    "We consider self-organized ydanmics of a crowd of N agents $\\mathcal{P} = \\{ \\textbf{p}_i \\}_{i=1}^N $ which do not interact globally, i.e there are some entries in the adjacency matrix $a_{ij}$ which may vanish ($ a_{ij} \\geq 0 $).  \n",
    "\n",
    "\n",
    "\n",
    "\n",
    "## 2.1  The Formation of Clusters\n",
    "\n",
    "\n",
    "$\\textbf{Cluster}$: A cluster $\\mathcal{C}$ is a connected subset of agents, $ \\{ \\textbf{p}_i \\}_{i \\in \\mathcal{C} } $, where these agents in this cluster are seperated from other agents in other clusters.  We therefore have the following properties of clusters. \n",
    "\n",
    "~~~ $\\textbf{Property 1}: a_{ij} \\neq 0 ~~~ \\forall~ i, j \\in \\mathcal{C}$\n",
    "\n",
    "~~~ $\\textbf{Property 2}: a_{ij} = 0$ whenever $i \\in \\mathcal{C} ~~ j \\notin \\mathcal{C}$\n",
    "\n",
    "An important feature of these clusters is their self-contained dyanmics because weights are nonzero only when $i \\in \\mathcal{C} $\n",
    "\n",
    "$$\n",
    "\\frac{d}{dt} \\textbf{p} = \\alpha \\sum_{j \\in \\mathcal{C}}a_{ij}(\\textbf{p}_j - \\textbf{p}_i )~, ~~~~ \n",
    "\\sum_{j \\in \\mathcal{C}}a_{ij} = 1, ~~~ i \\in \\mathcal{C}\n",
    "$$"
   ]
  },
  {
   "cell_type": "markdown",
   "metadata": {},
   "source": [
    "If the cluster $\\mathcal{C}(t)$ remains connected and isolated for a sufficiently long time, then its agents will tend to concentrate around a local concensus i.e. \n",
    "\n",
    "$$ \\lim_{t\\to\\infty} \\textbf{p}_i(t) = \\textbf{p}_{\\mathcal{C}}^{\\infty}$$\n",
    "\n",
    "What is interesting though, is that the evolution of agents in any clust $\\mathcal{C}$ may become influenced by agents not in $\\mathcal{C}$\n"
   ]
  },
  {
   "cell_type": "markdown",
   "metadata": {
    "collapsed": true
   },
   "source": [
    "We assume that the influence function $\\phi$ is compactly supported, namely \n",
    "\n",
    "\\begin{equation}\n",
    "\\text{Supp} \\{  \\phi() \\} = [0, R]\n",
    "\\end{equation}\n",
    "\n",
    "For the sake of rigor, we also know that $\\mathcal{C} = \\mathcal{C}(t) \\subset \\{1, 2, \\dots, N   \\}$, and this also holds the important property that finite diameter of the influence function $\\phi$ has the two properties:\n",
    "\n",
    "$$\\textbf{Property #1}$$ \n",
    "$$\\text{max}_{i, j \\in \\mathcal{C}(t)} | \\mathbf{x}_i(t) \\mathbf{x}_j(t)| \\leq R$$\n",
    "\n",
    "$$\\textbf{Property #2}$$\n",
    "$$\\text{min}_{i \\in \\mathcal{C}(t),~ j \\notin \\mathcal{C}(t)} | \\mathbf{x}_i(t) - \\mathbf{x}_j(t)| > R$$\n",
    "\n",
    "Note, in the case of when the dyanmics are global then we clearly have that $R >> [\\mathbf{x}(0) ]_i$ since we consider the whole crowd of $N$ agents to be one giant cluster!  Clearly then, the local dynamics entail that the R we examine be samll enough relative to the active diameter of the global dynamics problem. \n",
    "\n",
    "We are interested  in the long run behavior of cluster formation and its stability."
   ]
  },
  {
   "cell_type": "markdown",
   "metadata": {},
   "source": [
    "### The generic scenario \n",
    "Our crowd of agents, namely, $ \\{ 1, 2, \\dots, N \\} $ is partitioned into a collection of clusters, $\\mathcal{C}_i$, such that $\\cup_{i = 1}^{\\mathcal{K}} \\mathcal{C}_i = \\{1, 2, \\dots, N \\} $\n",
    "\n",
    "Either we have: \n",
    "\n",
    "$$ \\lim_{t \\to \\infty} | \\mathbf{p}_i(t) - \\mathbf{p}_j(t) | = 0  ~~ \\text{if} ~~ i, j \\in \\mathcal{C}_i \\xrightarrow{\\text{Equivalent}}| \\mathbf{x}_i(t) - \\mathbf{x}_j(t)| \\leq R $$\n",
    "\n",
    "OR \n",
    "\n",
    "$$| \\mathbf{x}_i(t) - \\mathbf{x}_j(t) | > R ~~ \\text{if} ~~ i \\in \\mathcal{C}_i, j \\in \\mathcal{C}_\\ell, i \\neq \\ell $$"
   ]
  },
  {
   "cell_type": "markdown",
   "metadata": {},
   "source": [
    "$$\\textbf{Proposition (formation of clusters)} $$\n",
    "\n",
    "IF\n",
    "Let $\\mathcal{P}(t) = \\{ \\mathbf{p}_k \\}_k $ be the solution of the opinion or flockel models with compactly supported influence function $\\text{Supp}\\{\\phi()\\} = [0,R]$ and we ASSUME each agents variation in its attribute vector is bounded due to time. \n",
    "\n",
    "$$ \\int^{\\infty} | \\dot{ \\mathbf{p}}_i(s) ds | < \\infty $$\n",
    "\n",
    "THEN\n",
    "\n",
    "then $\\mathcal{P}(t)$ approaches a stationary state $\\mathbf{p}^{\\infty}$, which is partitioned into $K$ clusters, $\\{ \\mathcal{C}_{i} \\} _{i=1}^{\\mathcal{K}}$ such that $\\cup_{i = 1}^{\\mathcal{K}} \\mathcal{C}_i = \\{1, 2, \\dots, N \\} $\n",
    "  \n",
    "  \n",
    "Either\n",
    "$$\n",
    "\\mathbf{p}_i(t) \\rightarrow \\mathbf{p}_{\\mathcal{C}_{\\mathcal{K}}}^{\\infty}~~ \\text{as} ~~ t \\to \\infty ~, ~~ \\forall i \\in \\mathcal{C}_k\n",
    "$$\n",
    "\n",
    "Or\n",
    "$$\n",
    "|\\mathbf{x}_i(t) - \\mathbf{x}_j(t)| > R ~~ \\text{for} ~~ t>>1 ~~~ i \\in \\mathcal{C}_k ~,j \\in \\mathcal{C}_\\ell, ~~ k \\neq \\ell\n",
    "$$"
   ]
  },
  {
   "cell_type": "markdown",
   "metadata": {},
   "source": [
    "## 2.2 How Many Clusters?\n",
    "\n",
    "\n",
    "$\\textbf{Proposition:}$\n",
    " \n",
    "\n",
    "$$ \\frac{d}{dt} \\textbf{p} = \\alpha \\sum_{j \\neq  1}a_{ij}(\\textbf{p}_j - \\textbf{p}_j ) $$"
   ]
  }
 ],
 "metadata": {
  "kernelspec": {
   "display_name": "Python 2",
   "language": "python",
   "name": "python2"
  },
  "language_info": {
   "codemirror_mode": {
    "name": "ipython",
    "version": 2
   },
   "file_extension": ".py",
   "mimetype": "text/x-python",
   "name": "python",
   "nbconvert_exporter": "python",
   "pygments_lexer": "ipython2",
   "version": "2.7.10"
  }
 },
 "nbformat": 4,
 "nbformat_minor": 0
}
