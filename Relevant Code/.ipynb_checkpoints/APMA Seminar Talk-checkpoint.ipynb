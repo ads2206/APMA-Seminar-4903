{
 "cells": [
  {
   "cell_type": "markdown",
   "metadata": {},
   "source": [
    "## The Problem:\n",
    "\\begin{equation*}\n",
    "\\frac{d}{dt} \\textbf{p} = \\alpha \\sum_{j} a_{ij}(\\textbf{p}_j - \\textbf{p}_i )~, ~~~~ \n",
    "a_{ij} = a_{ij}( \\mathbf{x} ) = \\frac{1}{ \\sigma_i } \\phi(| \\mathbf{x}_i - \\mathbf{x}_j |), ~~~ i \\in \\mathcal{C}\n",
    "\\end{equation*}\n",
    "\n",
    "\n",
    "Symmetric Model: $\\sigma_i = N$ \n",
    "\n",
    "Non-Symmetric Model: $\\sigma_i = \\sum_{j \\neq i} \\phi(| \\mathbf{x}_i - \\mathbf{x}_j |)$\n",
    "\n",
    "Opinion Dynamics: $\\mathbf{p} \\mapsto \\mathbf{x}$\n",
    "\n",
    "Flocking Dynamics: $\\mathbf{p} \\mapsto \\dot{\\mathbf{x}}$\n",
    "\n"
   ]
  },
  {
   "cell_type": "markdown",
   "metadata": {},
   "source": []
  },
  {
   "cell_type": "markdown",
   "metadata": {},
   "source": [
    "# Local Interactions and Clustering\n",
    "\n",
    "\n",
    "$\\textbf{Pretext:}$ \n",
    "We consider self-organized ydanmics of a crowd of N agents $\\mathcal{P} = \\{ \\textbf{p}_i \\}_{i=1}^N $ which do not interact globally, i.e there are some entries in the adjacency matrix $a_{ij}$ which may vanish ($ a_{ij} \\geq 0 $).  \n",
    "\n",
    "\n",
    "\n",
    "\n",
    "## 1.  The Formation of Clusters\n",
    "\n",
    "\n",
    "$\\textbf{Cluster}$: A cluster $\\mathcal{C}$ is a connected subset of agents, $ \\{ \\textbf{p}_i \\}_{i \\in \\mathcal{C} } $, where these agents in this cluster are seperated from other agents in other clusters.  We therefore have the following properties of clusters. \n",
    "\n",
    "~~~ $\\textbf{Property 1}: a_{ij} \\neq 0 ~~~ \\forall~ i, j \\in \\mathcal{C}$\n",
    "\n",
    "~~~ $\\textbf{Property 2}: a_{ij} = 0$ whenever $i \\in \\mathcal{C} ~~ j \\notin \\mathcal{C}$\n",
    "\n",
    "An important feature of these clusters is their self-contained dyanmics because weights are nonzero only when $i \\in \\mathcal{C} $\n",
    "\n",
    "$$\n",
    "\\frac{d}{dt} \\textbf{p} = \\alpha \\sum_{j \\in \\mathcal{C}}a_{ij}(\\textbf{p}_j - \\textbf{p}_i )~, ~~~~ \n",
    "\\sum_{j \\in \\mathcal{C}}a_{ij} = 1, ~~~ i \\in \\mathcal{C}\n",
    "$$"
   ]
  },
  {
   "cell_type": "markdown",
   "metadata": {},
   "source": [
    "If the cluster $\\mathcal{C}(t)$ remains connected and isolated for a sufficiently long time, then its agents will tend to concentrate around a local concensus i.e. \n",
    "\n",
    "$$ \\lim_{t\\to\\infty} \\textbf{p}_i(t) = \\textbf{p}_{\\mathcal{C}}^{\\infty}$$\n",
    "\n",
    "What is interesting though, is that the evolution of agents in any clust $\\mathcal{C}$ may become influenced by agents not in $\\mathcal{C}$\n"
   ]
  },
  {
   "cell_type": "markdown",
   "metadata": {
    "collapsed": true
   },
   "source": [
    "We assume that the influence function $\\phi$ is compactly supported, namely \n",
    "\n",
    "\\begin{equation}\n",
    "\\text{Supp} \\{  \\phi() \\} = [0, R]\n",
    "\\end{equation}\n",
    "\n",
    "For the sake of rigor, we also know that $\\mathcal{C} = \\mathcal{C}(t) \\subset \\{1, 2, \\dots, N   \\}$, and this also holds the important property that finite diameter of the influence function $\\phi$ has the two properties:\n",
    "\n",
    "$$\\textbf{Property #1}$$ \n",
    "$$\\text{max}_{i, j \\in \\mathcal{C}(t)} | \\mathbf{x}_i(t) \\mathbf{x}_j(t)| \\leq R$$\n",
    "\n",
    "$$\\textbf{Property #2}$$\n",
    "$$\\text{min}_{i \\in \\mathcal{C}(t),~ j \\notin \\mathcal{C}(t)} | \\mathbf{x}_i(t) - \\mathbf{x}_j(t)| > R$$\n",
    "\n",
    "Note, in the case of when the dyanmics are global then we clearly have that $R >> [\\mathbf{x}(0) ]_i$ since we consider the whole crowd of $N$ agents to be one giant cluster!  Clearly then, the local dynamics entail that the R we examine be samll enough relative to the active diameter of the global dynamics problem. \n",
    "\n",
    "We are interested  in the long run behavior of cluster formation and its stability. "
   ]
  },
  {
   "cell_type": "markdown",
   "metadata": {},
   "source": [
    "## 2. How Many Clusters?\n",
    "\n",
    "\n",
    "$\\textbf{Proposition:}$\n",
    " \n",
    "\n",
    "$$ \\frac{d}{dt} \\textbf{p} = \\alpha \\sum_{j \\neq  1}a_{ij}(\\textbf{p}_j - \\textbf{p}_j ) $$"
   ]
  }
 ],
 "metadata": {
  "kernelspec": {
   "display_name": "Python 2",
   "language": "python",
   "name": "python2"
  },
  "language_info": {
   "codemirror_mode": {
    "name": "ipython",
    "version": 2
   },
   "file_extension": ".py",
   "mimetype": "text/x-python",
   "name": "python",
   "nbconvert_exporter": "python",
   "pygments_lexer": "ipython2",
   "version": "2.7.10"
  }
 },
 "nbformat": 4,
 "nbformat_minor": 0
}
