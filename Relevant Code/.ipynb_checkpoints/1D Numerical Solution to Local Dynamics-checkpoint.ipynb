{
 "cells": [
  {
   "cell_type": "code",
   "execution_count": 1,
   "metadata": {
    "collapsed": true
   },
   "outputs": [],
   "source": [
    "import numpy\n",
    "import math\n",
    "import matplotlib.pyplot as plt"
   ]
  },
  {
   "cell_type": "code",
   "execution_count": 2,
   "metadata": {
    "collapsed": false
   },
   "outputs": [],
   "source": [
    "def inflFunction(x, a = 0, b = 1):\n",
    "    if x > a and x <= b:\n",
    "        return 1\n",
    "    else:\n",
    "        return 0\n",
    "    \n",
    "def inflFunctSum(current_posn, nthTime, N, u_4):\n",
    "    total = 0.0\n",
    "    for k in range(N):\n",
    "        total += inflFunction( abs( u_4[k][nthTime] - current_posn) )\n",
    "    return total\n",
    "    \n",
    "def f(current_posn, time, N, u_4, nthTime):\n",
    "    '''\n",
    "    current_posn: this is the current position for some ith agent \n",
    "    time: this is where we are in time \n",
    "    (note, this variable is unused b.c function uses nthTime); included for readability\n",
    "    \n",
    "    u_4: is a numpy array matrix that has all data \n",
    "    N: is the number of agents in the system\n",
    "    nthTime: is the current time step we are at \n",
    "    '''\n",
    "    total = 0.0\n",
    "    for j in range (N):\n",
    "        posnDiff = u_4[j][nthTime] - current_posn\n",
    "        term_1 = posnDiff / inflFunctSum(current_posn, nthTime, N, u_4)\n",
    "        total += term_1 * inflFunction( abs(posnDiff) )\n",
    "    return total\n"
   ]
  },
  {
   "cell_type": "code",
   "execution_count": 3,
   "metadata": {
    "collapsed": false
   },
   "outputs": [],
   "source": [
    "# Below, are functions necessary to compute the eigenvalues \n",
    "# of the transition matrix, A \n",
    "\n",
    "def createTransMatrix(x):\n",
    "    import numpy\n",
    "    n = len(x)\n",
    "    vec = numpy.zeros(n**2)\n",
    "    A = numpy.matrix(vec.reshape((n, n)))\n",
    "    for i in range(n):\n",
    "        for j in range(n):\n",
    "            w = inflFunctSum_eigen(i, x)\n",
    "            A[i,j] = inflFunction( abs( x[i] - x[j] ) ) / inflFunctSum_eigen(i, x)\n",
    "    return A \n",
    "        \n",
    "def inflFunctSum_eigen(i, x):\n",
    "    total = 0.0\n",
    "    for k in range(len(x)):\n",
    "        total = total + inflFunction( abs( x[i] - x[k] ) )\n",
    "    if total == 0:\n",
    "        return 1\n",
    "    else:\n",
    "        return total"
   ]
  },
  {
   "cell_type": "code",
   "execution_count": 4,
   "metadata": {
    "collapsed": false
   },
   "outputs": [],
   "source": [
    "# we're in one dimension (a 1D dynamical system)\n",
    "\n",
    "#define interval range and number of agents\n",
    "a, b = 0, 10\n",
    "\n",
    "numAgents = 50\n",
    "\n",
    "# initial configuraton of N = 100 agents uniformly distributed on \n",
    "# interval [a, b]\n",
    "x = numpy.ones(numAgents) #number of agents \n",
    "for i in range(numAgents):\n",
    "    x[i] = numpy.random.uniform(a, b)\n",
    "\n",
    "    \n",
    "dt = .1\n",
    "# time-discretizaiton of the system of ODEs\n",
    "t = numpy.arange(0, 5, dt)\n",
    "\n",
    "\n",
    "# RK4 vector\n",
    "u_4 = numpy.zeros([numAgents, t.shape[0]])\n",
    "\n",
    "#initialize all x values, i.e initialize x_i[0] to their initial config.\n",
    "u_4[:, 0] = x"
   ]
  },
  {
   "cell_type": "code",
   "execution_count": 50,
   "metadata": {
    "collapsed": false
   },
   "outputs": [],
   "source": [
    "from numpy import linalg as LA\n",
    "A = createTransMatrix(x)\n",
    "\n",
    "#w are the eigenvalues and v are the eigenvectors\n",
    "w, v = LA.eig(A)\n",
    "\n",
    "#create matrix of eigenValues and how they change every unit time\n",
    "#print len(w), w\n",
    "\n",
    "eigenValues = numpy.empty([len( w[:10] ), t.shape[0]])\n",
    "eigenValues[:, 0] = abs(w[:10])"
   ]
  },
  {
   "cell_type": "code",
   "execution_count": 51,
   "metadata": {
    "collapsed": false
   },
   "outputs": [
    {
     "name": "stdout",
     "output_type": "stream",
     "text": [
      "0\n",
      "1\n",
      "2\n",
      "3\n",
      "4\n",
      "5\n",
      "6\n",
      "7\n",
      "8\n",
      "9\n",
      "10\n",
      "11\n",
      "12\n",
      "13\n",
      "14\n",
      "15\n",
      "16\n",
      "17\n",
      "18\n",
      "19\n",
      "20\n",
      "21\n",
      "22\n",
      "23\n",
      "24\n",
      "25\n",
      "26\n",
      "27\n",
      "28\n",
      "29\n",
      "30\n",
      "31\n",
      "32\n",
      "33\n",
      "34\n",
      "35\n",
      "36\n",
      "37\n",
      "38\n",
      "39\n",
      "40\n",
      "41\n",
      "42\n",
      "43\n",
      "44\n",
      "45\n",
      "46\n",
      "47\n",
      "48\n"
     ]
    }
   ],
   "source": [
    "for(nthTime, t_n) in enumerate(t[1:]):\n",
    "    print nthTime\n",
    "    for i in range(numAgents):\n",
    "\n",
    "        y_1 = u_4[i][nthTime]\n",
    "        \n",
    "        y_2 = u_4[i][nthTime] + \\\n",
    "        0.5 * dt * f(y_1, t_n + 0.5 * dt, numAgents, u_4, nthTime)\n",
    "        \n",
    "        y_3 = u_4[i][nthTime] + \\\n",
    "        0.5 * dt * f(y_2, t_n + 0.5, numAgents, u_4, nthTime)\n",
    "\n",
    "        y_4 = u_4[i][nthTime] + \\\n",
    "        dt * f(y_3, t_n + 0.5 * dt, numAgents, u_4, nthTime)\n",
    "        \n",
    "\n",
    "        u_4[i][nthTime+1] = u_4[i][nthTime] + (dt / 6.0) * (f(y_1, t_n, numAgents, u_4, nthTime) + \\\n",
    "                                        2.0 * f(y_2, t_n + 0.5, numAgents, u_4, nthTime) + \\\n",
    "                                        2.0 * f(y_3, t_n + 0.5 * dt, numAgents, u_4, nthTime) + \\\n",
    "                                        f(y_4, t_n + dt, numAgents, u_4, nthTime))\n",
    "        \n",
    "    w, v = LA.eig(createTransMatrix( u_4[:, nthTime] ) )\n",
    "        \n",
    "    eigenValues[:, nthTime + 1] = abs(w[:10])\n",
    "\n",
    "    "
   ]
  },
  {
   "cell_type": "code",
   "execution_count": 53,
   "metadata": {
    "collapsed": false
   },
   "outputs": [],
   "source": [
    "fig = plt.figure(1)\n",
    "axes1 = fig.add_subplot(1, 1, 1)\n",
    "\n",
    "for i in range(numAgents):\n",
    "    axes1.plot(t, u_4[i][:], label=\"Agent $%s$\" % i)\n",
    "\n",
    "\n",
    "\n",
    "axes1.set_title(\"1d Rk4 Soln to Local Opinion Dynamics Model\")\n",
    "axes1.set_ylim(a, b)\n",
    "axes1.set_xlabel(\"Time, $t$\")\n",
    "axes1.set_ylabel(\"Attribute, $x_i$\")\n",
    "plt.savefig('1d: dt = .1 & 50 agents.png')\n",
    "plt.show()"
   ]
  },
  {
   "cell_type": "code",
   "execution_count": 52,
   "metadata": {
    "collapsed": false
   },
   "outputs": [],
   "source": [
    "fig2 = plt.figure()\n",
    "axes2 = fig2.add_subplot(2,1,1)\n",
    "counts = numpy.empty([0])\n",
    "for i in range(len(eigenValues[:, 0])):\n",
    "    axes2.plot(t, eigenValues[i][:], label = \"$\\lambda_{%d}(t)$\" % i)\n",
    "\n",
    "axes2.set_xlim(0,5)\n",
    "axes2.set_title(\"First 10 Eigenvalues of $A(\\mathbf{x}(t))$\")\n",
    "axes2.set_xlabel(\"$t$\")\n",
    "axes2.set_ylabel(\"$\\lambda_i(t)$\")\n",
    "axes2.legend(loc=1)    \n",
    "    \n",
    "for j in range(len(eigenValues[0, :])):\n",
    "    counts = numpy.append( counts, det1s( eigenValues[:,j] ) )\n",
    "\n",
    "\n",
    "axes3 = fig2.add_subplot(2,1,2)\n",
    "axes3.plot(t, counts, label = \"# $\\lambda_N ( A(\\mathbf{x(t)}) ) = 1$\")\n",
    "\n",
    "axes3.set_xlim(0,5)\n",
    "axes3.set_title(\"Number of Eigenvalues in Range Specified that Equal 1$\")\n",
    "axes3.set_xlabel(\"$t$\")\n",
    "axes3.set_ylim(0, 5)\n",
    "axes3.set_ylabel(\" # $\\lambda$ such that they equal 1\")\n",
    "axes3.legend(loc=2)    \n",
    "\n",
    "\n",
    "\n",
    "plt.savefig('Eigenvalues per time.png')\n",
    "plt.show()"
   ]
  },
  {
   "cell_type": "code",
   "execution_count": 26,
   "metadata": {
    "collapsed": false
   },
   "outputs": [],
   "source": [
    "def det1s(x):\n",
    "    import math\n",
    "    count = 0\n",
    "    x = x.astype(type('float', (float,), {}))\n",
    "    for i in range(len(x)):\n",
    "\n",
    "        if x[i] > .9999999999:\n",
    "            count += 1\n",
    "    return count\n",
    "    \n",
    "    "
   ]
  },
  {
   "cell_type": "code",
   "execution_count": null,
   "metadata": {
    "collapsed": true
   },
   "outputs": [],
   "source": []
  }
 ],
 "metadata": {
  "kernelspec": {
   "display_name": "Python 2",
   "language": "python",
   "name": "python2"
  },
  "language_info": {
   "codemirror_mode": {
    "name": "ipython",
    "version": 2
   },
   "file_extension": ".py",
   "mimetype": "text/x-python",
   "name": "python",
   "nbconvert_exporter": "python",
   "pygments_lexer": "ipython2",
   "version": "2.7.10"
  }
 },
 "nbformat": 4,
 "nbformat_minor": 0
}
