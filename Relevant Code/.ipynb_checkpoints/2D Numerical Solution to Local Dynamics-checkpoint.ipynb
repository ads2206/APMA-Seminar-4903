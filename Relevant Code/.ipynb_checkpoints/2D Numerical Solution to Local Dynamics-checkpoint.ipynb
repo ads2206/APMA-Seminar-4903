{
 "cells": [
  {
   "cell_type": "code",
   "execution_count": 2,
   "metadata": {
    "collapsed": true
   },
   "outputs": [],
   "source": [
    "import numpy\n",
    "import math\n",
    "import matplotlib.pyplot as plt"
   ]
  },
  {
   "cell_type": "code",
   "execution_count": 3,
   "metadata": {
    "collapsed": false
   },
   "outputs": [],
   "source": [
    "def eucNorm(x):\n",
    "    '''\n",
    "    returns the euclidean norm of\n",
    "    a vector x that lives in R^(dim) space \n",
    "    '''\n",
    "    dim = x.shape[0]\n",
    "    if dim == 1:\n",
    "        return abs(x)\n",
    "    elif dim > 1:\n",
    "        total = 0.0\n",
    "        for i in range(dim):\n",
    "            total += x[i]**2\n",
    "        return math.sqrt(total)"
   ]
  },
  {
   "cell_type": "code",
   "execution_count": 4,
   "metadata": {
    "collapsed": false
   },
   "outputs": [],
   "source": [
    "def inflFunction(x, a = 0, b = 1):\n",
    "    if x >= a and x <= b:\n",
    "        return 1\n",
    "    else:\n",
    "        return 0\n",
    "    \n",
    "def inflFunctSum(current_posn, nthTime, u_4, coord, i):\n",
    "\n",
    "    N = u_4.shape[1]\n",
    "    \n",
    "    total = 0.0\n",
    "    for k in range(N):\n",
    "        vectorDiff = u_4[:, k, nthTime] - u_4[:,i,nthTime]\n",
    "        total += inflFunction( eucNorm(vectorDiff ))\n",
    "    return total\n",
    "    \n",
    "def f(current_posn, time, u_4, nthTime, coord, i):\n",
    "    '''\n",
    "    current_posn: this is the current position for some ith agent \n",
    "    time: this is where we are in time \n",
    "    (note, this variable is unused b.c function uses nthTime); included for readability\n",
    "    \n",
    "    u_4: is a numpy array matrix that has all data \n",
    "    i: is the agent we are analyzing (the ith agent)\n",
    "    nthTime: is the current time step we are at \n",
    "    coord: which coordinate are we in.  This is a numeric value {0, 1}\n",
    "    '''\n",
    "    N = u_4.shape[1]\n",
    "    total = 0.0\n",
    "    for j in range (N):\n",
    "        coordDiff = u_4[coord, j, nthTime] - current_posn\n",
    "        vectorDiff = u_4[:, j, nthTime] - u_4[:, i, nthTime]\n",
    "        \n",
    "        numer = inflFunction(eucNorm(vectorDiff)) * coordDiff\n",
    "        denom = inflFunctSum(current_posn, nthTime, u_4, coord, i)\n",
    "        \n",
    "        total += numer/denom\n",
    "    return total\n"
   ]
  },
  {
   "cell_type": "code",
   "execution_count": 5,
   "metadata": {
    "collapsed": false
   },
   "outputs": [],
   "source": [
    "# we're in one dimension (a 1D dynamical system)\n",
    "d = 2\n",
    "#define interval range and number of agents\n",
    "a, b = 0, 10\n",
    "\n",
    "numAgents = 1000\n",
    "\n",
    "# initial configuraton of N = 100 agents uniformly distributed on \n",
    "# interval [a, b]X[a, b]\n",
    "x = numpy.ones([d, numAgents]) #number of agents \n",
    "for i in range(d):\n",
    "    for j in range(numAgents):\n",
    "        x[i, j] = numpy.random.uniform(a, b)\n",
    "\n",
    "dt = .05\n",
    "\n",
    "# time-discretizaiton of the system of ODEs\n",
    "t = numpy.arange(0, 30, dt)\n",
    "\n",
    "# RK4 vector\n",
    "u_4 = numpy.zeros([d, numAgents, t.shape[0]])\n",
    "\n",
    "#initialize all x values, i.e initialize x_i[0] to their initial config.\n",
    "u_4[0, :, 0] = x[0,:]\n",
    "u_4[1, :, 0] = x[1,:]\n",
    "\n"
   ]
  },
  {
   "cell_type": "code",
   "execution_count": null,
   "metadata": {
    "collapsed": false,
    "scrolled": true
   },
   "outputs": [],
   "source": [
    "for(nthTime, t_n) in enumerate(t[1:]):\n",
    "    print nthTime, t_n\n",
    "    for i in range(numAgents):\n",
    "        #print str(i) + \" \"\n",
    "        for coord in range(d):\n",
    "            y_1 = u_4[coord, i, nthTime]\n",
    "        \n",
    "            y_2 = u_4[coord, i,nthTime] + \\\n",
    "            0.5 * dt * f(y_1, t_n + 0.5 * dt, u_4, nthTime, coord, i)\n",
    "        \n",
    "            y_3 = u_4[coord, i, nthTime] + \\\n",
    "            0.5 * dt * f(y_2, t_n + 0.5, u_4, nthTime, coord, i)\n",
    "\n",
    "            y_4 = u_4[coord, i, nthTime] + \\\n",
    "            dt * f(y_3, t_n + 0.5 * dt, u_4, nthTime, coord, i)\n",
    "\n",
    "            u_4[coord, i, nthTime+1] = u_4[coord, i, nthTime] + (dt / 6.0) * \\\n",
    "                                        ( f(y_1, t_n, u_4, nthTime, coord, i) + \\\n",
    "                                        2.0 * f(y_2, t_n + 0.5, u_4, nthTime, coord, i) + \\\n",
    "                                        2.0 * f(y_3, t_n + 0.5 * dt, u_4, nthTime, coord, i) + \\\n",
    "                                        f(y_4, t_n + dt, u_4, nthTime, coord, i) )\n",
    "        "
   ]
  },
  {
   "cell_type": "code",
   "execution_count": 9,
   "metadata": {
    "collapsed": false
   },
   "outputs": [],
   "source": [
    "fig = plt.figure()\n",
    "axes = fig.add_subplot(1, 1, 1)\n",
    "import matplotlib.cm as cm\n",
    "\n",
    "\n",
    "ys = [i+x+(i*x)**2 for i in range(10)]\n",
    "colors = iter(cm.rainbow(numpy.linspace(0, 1, len(ys))))\n",
    "\n",
    "\n",
    "for i in range(numAgents):\n",
    "    #plt.scatter(u_4[0][i][t.shape[0]-1], u_4[1][i][t.shape[0]-1],facecolors='none', edgecolors='r')\n",
    "    plt.scatter(u_4[0][i][0], u_4[1][i][0],facecolors='none', edgecolors='r')\n",
    "    #plt.scatter(u_4[0][i][:], u_4[1][i][:],facecolors='none', edgecolors='r')\n",
    "\n",
    "\n",
    "\n",
    "axes.set_title(\"Runge Kutta Methods\")\n",
    "axes.set_xlim(a, b)\n",
    "axes.set_ylim(a, b)\n",
    "axes.set_xlabel(\"Characterstic $ x0$\")\n",
    "axes.set_ylabel(\"Characterstic $ x1$\")\n",
    "#plt.savefig('2d - Opinion Dynamical Model RK4 Solution.png')\n",
    "plt.show()"
   ]
  },
  {
   "cell_type": "code",
   "execution_count": null,
   "metadata": {
    "collapsed": true
   },
   "outputs": [],
   "source": []
  }
 ],
 "metadata": {
  "kernelspec": {
   "display_name": "Python 2",
   "language": "python",
   "name": "python2"
  },
  "language_info": {
   "codemirror_mode": {
    "name": "ipython",
    "version": 2
   },
   "file_extension": ".py",
   "mimetype": "text/x-python",
   "name": "python",
   "nbconvert_exporter": "python",
   "pygments_lexer": "ipython2",
   "version": "2.7.10"
  }
 },
 "nbformat": 4,
 "nbformat_minor": 0
}
