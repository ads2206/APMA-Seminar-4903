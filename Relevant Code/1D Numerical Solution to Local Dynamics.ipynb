{
 "cells": [
  {
   "cell_type": "code",
   "execution_count": 2,
   "metadata": {
    "collapsed": true
   },
   "outputs": [],
   "source": [
    "import numpy\n",
    "import math\n",
    "import matplotlib.pyplot as plt"
   ]
  },
  {
   "cell_type": "code",
   "execution_count": 10,
   "metadata": {
    "collapsed": false
   },
   "outputs": [],
   "source": [
    "def inflFunction(x, a = 0, b = 1):\n",
    "    if x >= a and x <= b:\n",
    "        return 1\n",
    "    else:\n",
    "        return 0\n",
    "    \n",
    "def inflFunctSum(current_posn, nthTime, N, u_4):\n",
    "    total = 0.0\n",
    "    for k in range(N):\n",
    "        total += inflFunction( abs( u_4[k][nthTime] - current_posn) )\n",
    "    return total\n",
    "    \n",
    "def f(current_posn, time, N, u_4, nthTime):\n",
    "    '''\n",
    "    current_posn: this is the current position for some ith agent \n",
    "    time: this is where we are in time \n",
    "    (note, this variable is unused b.c function uses nthTime); included for readability\n",
    "    \n",
    "    u_4: is a numpy array matrix that has all data \n",
    "    N: is the number of agents in the system\n",
    "    nthTime: is the current time step we are at \n",
    "    '''\n",
    "    total = 0.0\n",
    "    for j in range (N):\n",
    "        posnDiff = u_4[j][nthTime] - current_posn\n",
    "        term_1 = posnDiff / inflFunctSum(current_posn, nthTime, N, u_4)\n",
    "        total += term_1 * inflFunction( abs(posnDiff) )\n",
    "    return total\n"
   ]
  },
  {
   "cell_type": "code",
   "execution_count": null,
   "metadata": {
    "collapsed": false
   },
   "outputs": [],
   "source": [
    "# we're in one dimension (a 1D dynamical system)\n",
    "\n",
    "#define interval range and number of agents\n",
    "a, b = 0, 10\n",
    "\n",
    "numAgents = 30\n",
    "\n",
    "# initial configuraton of N = 100 agents uniformly distributed on \n",
    "# interval [a, b]\n",
    "x = numpy.ones(numAgents) #number of agents \n",
    "for i in range(numAgents):\n",
    "    x[i] = numpy.random.uniform(a, b)\n",
    "\n",
    "    \n",
    "dt = .05\n",
    "# time-discretizaiton of the system of ODEs\n",
    "t = numpy.arange(a, b, dt)\n",
    "\n",
    "\n",
    "# RK4 vector\n",
    "u_4 = numpy.zeros([numAgents, t.shape[0]])\n",
    "\n",
    "#initialize all x values, i.e initialize x_i[0] to their initial config.\n",
    "u_4[:, 0] = x\n",
    "\n",
    "for(nthTime, t_n) in enumerate(t[1:]):\n",
    "    for i in range(numAgents):\n",
    "\n",
    "        y_1 = u_4[i][nthTime]\n",
    "        \n",
    "        y_2 = u_4[i][nthTime] + \\\n",
    "        0.5 * dt * f(y_1, t_n + 0.5 * dt, numAgents, u_4, nthTime)\n",
    "        \n",
    "        y_3 = u_4[i][nthTime] + \\\n",
    "        0.5 * dt * f(y_2, t_n + 0.5, numAgents, u_4, nthTime)\n",
    "\n",
    "        y_4 = u_4[i][nthTime] + \\\n",
    "        dt * f(y_3, t_n + 0.5 * dt, numAgents, u_4, nthTime)\n",
    "        \n",
    "        #if i ==0:\n",
    "        #    print \"before: \", u_4[i][nthTime]\n",
    "        u_4[i][nthTime+1] = u_4[i][nthTime] + (dt / 6.0) * (f(y_1, t_n, numAgents, u_4, nthTime) + \\\n",
    "                                        2.0 * f(y_2, t_n + 0.5, numAgents, u_4, nthTime) + \\\n",
    "                                        2.0 * f(y_3, t_n + 0.5 * dt, numAgents, u_4, nthTime) + \\\n",
    "                                        f(y_4, t_n + dt, numAgents, u_4, nthTime))\n",
    "        #if i ==0:\n",
    "        #    print \"after: \", u_4[i][nthTime+1]\n",
    "        \n",
    "        #print u_4\n",
    "\n",
    "        "
   ]
  },
  {
   "cell_type": "code",
   "execution_count": null,
   "metadata": {
    "collapsed": false
   },
   "outputs": [],
   "source": [
    "fig = plt.figure()\n",
    "axes = fig.add_subplot(1, 1, 1)\n",
    "\n",
    "for i in range(numAgents):\n",
    "    axes.plot(t, u_4[i][:], label=\"Agent $%s$\" % i)\n",
    "\n",
    "\n",
    "axes.set_title(\"Runge Kutta Methods\")\n",
    "axes.set_xlabel(\"t\")\n",
    "axes.set_ylabel(\"u(t)\")\n",
    "#plt.savefig('1d - Opinion Dynamical Model RK4 Solution.png')\n",
    "plt.show()"
   ]
  },
  {
   "cell_type": "code",
   "execution_count": null,
   "metadata": {
    "collapsed": true
   },
   "outputs": [],
   "source": []
  }
 ],
 "metadata": {
  "kernelspec": {
   "display_name": "Python 2",
   "language": "python",
   "name": "python2"
  },
  "language_info": {
   "codemirror_mode": {
    "name": "ipython",
    "version": 2
   },
   "file_extension": ".py",
   "mimetype": "text/x-python",
   "name": "python",
   "nbconvert_exporter": "python",
   "pygments_lexer": "ipython2",
   "version": "2.7.10"
  }
 },
 "nbformat": 4,
 "nbformat_minor": 0
}
