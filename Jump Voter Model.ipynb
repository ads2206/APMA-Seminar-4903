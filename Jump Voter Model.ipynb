{
 "cells": [
  {
   "cell_type": "code",
   "execution_count": 3,
   "metadata": {
    "collapsed": true
   },
   "outputs": [],
   "source": [
    "import numpy\n",
    "import math \n",
    "import matplotlib.pyplot as plt\n",
    "import networkx as nx"
   ]
  },
  {
   "cell_type": "code",
   "execution_count": 50,
   "metadata": {
    "collapsed": true
   },
   "outputs": [],
   "source": [
    "def genRandInteger(a, b, cant = None):\n",
    "    ''' This function generates a random integer in the integer range [a, b]'''\n",
    "    import numpy, math\n",
    "    \n",
    "    if cant != None:\n",
    "        U = numpy.random.uniform(a,b)\n",
    "        return math.floor(U)\n",
    "    else:\n",
    "        while(True):\n",
    "            U = math.floor( numpy.random.uniform(a,b) )\n",
    "            if U != cant:\n",
    "                break\n",
    "        return U\n",
    "def detOpinionSize(attr):\n",
    "    ''' Given alist of attributes in which each \n",
    "        element is list of size two where its second element is its \n",
    "        opinion and the first element is its node index, we output the number \n",
    "        of nodes of opinion 0 and nodes of opinion 1'''\n",
    "    num_0 = num_1 = 0\n",
    "    for i in range(len(attr)):\n",
    "        if attr[i][1] == 0:\n",
    "            num_0 += 1\n",
    "        if attr[i][1] == 1:\n",
    "            num_1 += 1\n",
    "    return (num_0, num_1)\n",
    "        "
   ]
  },
  {
   "cell_type": "code",
   "execution_count": 92,
   "metadata": {
    "collapsed": false
   },
   "outputs": [],
   "source": [
    "# Generate a Complete Graph!\n",
    "numAgents = 20\n",
    "numEdges = .5 * numAgents*(numAgents-1)\n",
    "G = nx.gnm_random_graph(numAgents, numEdges)\n",
    "\n",
    "nx.draw(G)\n",
    "\n",
    "#plt.show()"
   ]
  },
  {
   "cell_type": "code",
   "execution_count": 109,
   "metadata": {
    "collapsed": false
   },
   "outputs": [
    {
     "name": "stdout",
     "output_type": "stream",
     "text": [
      "[(0, {'opinion': 0}), (1, {'opinion': 0}), (2, {'opinion': 0}), (3, {'opinion': 0}), (4, {'opinion': 0}), (5, {'opinion': 1}), (6, {'opinion': 1}), (7, {'opinion': 0}), (8, {'opinion': 1}), (9, {'opinion': 1}), (10, {'opinion': 1}), (11, {'opinion': 0}), (12, {'opinion': 1}), (13, {'opinion': 1}), (14, {'opinion': 1}), (15, {'opinion': 0}), (16, {'opinion': 1}), (17, {'opinion': 1}), (18, {'opinion': 0}), (19, {'opinion': 1})]\n"
     ]
    }
   ],
   "source": [
    "# initializaiton of attributes i.e initiatilization of binary opinion space\n",
    "for i in range(numAgents):\n",
    "    U = numpy.random.uniform(0,1)\n",
    "    if U < .5:\n",
    "        G.node[i] = {'opinion': 0}\n",
    "    else:\n",
    "        G.node[i] = {'opinion': 1}\n",
    "\n",
    "attr = G.nodes(data = True) \n",
    "print attr"
   ]
  },
  {
   "cell_type": "code",
   "execution_count": 103,
   "metadata": {
    "collapsed": false
   },
   "outputs": [
    {
     "ename": "TypeError",
     "evalue": "argument of type 'int' is not iterable",
     "output_type": "error",
     "traceback": [
      "\u001b[0;31m---------------------------------------------------------------------------\u001b[0m",
      "\u001b[0;31mTypeError\u001b[0m                                 Traceback (most recent call last)",
      "\u001b[0;32m<ipython-input-103-c25602bc70b4>\u001b[0m in \u001b[0;36m<module>\u001b[0;34m()\u001b[0m\n\u001b[1;32m     39\u001b[0m \u001b[0;34m\u001b[0m\u001b[0m\n\u001b[1;32m     40\u001b[0m \u001b[0;32mfrom\u001b[0m \u001b[0mitertools\u001b[0m \u001b[0;32mimport\u001b[0m \u001b[0mcount\u001b[0m\u001b[0;34m\u001b[0m\u001b[0m\n\u001b[0;32m---> 41\u001b[0;31m \u001b[0mattributes\u001b[0m \u001b[0;34m=\u001b[0m \u001b[0mnx\u001b[0m\u001b[0;34m.\u001b[0m\u001b[0mget_node_attributes\u001b[0m\u001b[0;34m(\u001b[0m\u001b[0mG\u001b[0m\u001b[0;34m,\u001b[0m \u001b[0;34m'group'\u001b[0m\u001b[0;34m)\u001b[0m\u001b[0;34m\u001b[0m\u001b[0m\n\u001b[0m\u001b[1;32m     42\u001b[0m \u001b[0;31m#groups = set(nx.get_node_attributes(G,'group').values())\u001b[0m\u001b[0;34m\u001b[0m\u001b[0;34m\u001b[0m\u001b[0m\n\u001b[1;32m     43\u001b[0m \u001b[0mnx\u001b[0m\u001b[0;34m.\u001b[0m\u001b[0mdraw\u001b[0m\u001b[0;34m(\u001b[0m\u001b[0mG\u001b[0m\u001b[0;34m)\u001b[0m\u001b[0;34m\u001b[0m\u001b[0m\n",
      "\u001b[0;32m/Users/andressoto/anaconda/lib/python2.7/site-packages/networkx/classes/function.pyc\u001b[0m in \u001b[0;36mget_node_attributes\u001b[0;34m(G, name)\u001b[0m\n\u001b[1;32m    355\u001b[0m     \u001b[0;34m'red'\u001b[0m\u001b[0;34m\u001b[0m\u001b[0m\n\u001b[1;32m    356\u001b[0m     \"\"\"\n\u001b[0;32m--> 357\u001b[0;31m     \u001b[0;32mreturn\u001b[0m \u001b[0mdict\u001b[0m\u001b[0;34m(\u001b[0m \u001b[0;34m(\u001b[0m\u001b[0mn\u001b[0m\u001b[0;34m,\u001b[0m\u001b[0md\u001b[0m\u001b[0;34m[\u001b[0m\u001b[0mname\u001b[0m\u001b[0;34m]\u001b[0m\u001b[0;34m)\u001b[0m \u001b[0;32mfor\u001b[0m \u001b[0mn\u001b[0m\u001b[0;34m,\u001b[0m\u001b[0md\u001b[0m \u001b[0;32min\u001b[0m \u001b[0mG\u001b[0m\u001b[0;34m.\u001b[0m\u001b[0mnode\u001b[0m\u001b[0;34m.\u001b[0m\u001b[0mitems\u001b[0m\u001b[0;34m(\u001b[0m\u001b[0;34m)\u001b[0m \u001b[0;32mif\u001b[0m \u001b[0mname\u001b[0m \u001b[0;32min\u001b[0m \u001b[0md\u001b[0m\u001b[0;34m)\u001b[0m\u001b[0;34m\u001b[0m\u001b[0m\n\u001b[0m\u001b[1;32m    358\u001b[0m \u001b[0;34m\u001b[0m\u001b[0m\n\u001b[1;32m    359\u001b[0m \u001b[0;34m\u001b[0m\u001b[0m\n",
      "\u001b[0;32m/Users/andressoto/anaconda/lib/python2.7/site-packages/networkx/classes/function.pyc\u001b[0m in \u001b[0;36m<genexpr>\u001b[0;34m((n, d))\u001b[0m\n\u001b[1;32m    355\u001b[0m     \u001b[0;34m'red'\u001b[0m\u001b[0;34m\u001b[0m\u001b[0m\n\u001b[1;32m    356\u001b[0m     \"\"\"\n\u001b[0;32m--> 357\u001b[0;31m     \u001b[0;32mreturn\u001b[0m \u001b[0mdict\u001b[0m\u001b[0;34m(\u001b[0m \u001b[0;34m(\u001b[0m\u001b[0mn\u001b[0m\u001b[0;34m,\u001b[0m\u001b[0md\u001b[0m\u001b[0;34m[\u001b[0m\u001b[0mname\u001b[0m\u001b[0;34m]\u001b[0m\u001b[0;34m)\u001b[0m \u001b[0;32mfor\u001b[0m \u001b[0mn\u001b[0m\u001b[0;34m,\u001b[0m\u001b[0md\u001b[0m \u001b[0;32min\u001b[0m \u001b[0mG\u001b[0m\u001b[0;34m.\u001b[0m\u001b[0mnode\u001b[0m\u001b[0;34m.\u001b[0m\u001b[0mitems\u001b[0m\u001b[0;34m(\u001b[0m\u001b[0;34m)\u001b[0m \u001b[0;32mif\u001b[0m \u001b[0mname\u001b[0m \u001b[0;32min\u001b[0m \u001b[0md\u001b[0m\u001b[0;34m)\u001b[0m\u001b[0;34m\u001b[0m\u001b[0m\n\u001b[0m\u001b[1;32m    358\u001b[0m \u001b[0;34m\u001b[0m\u001b[0m\n\u001b[1;32m    359\u001b[0m \u001b[0;34m\u001b[0m\u001b[0m\n",
      "\u001b[0;31mTypeError\u001b[0m: argument of type 'int' is not iterable"
     ]
    }
   ],
   "source": [
    "# discretization of time \n",
    "t = numpy.linspace(0, 100, 10000)\n",
    "dt = t[1] - t[0]\n",
    "\n",
    "#begin discrete time process\n",
    "p = .1\n",
    "\n",
    "for (ithTime, time) in enumerate(t):\n",
    "    U = numpy.random.uniform(0,1)\n",
    "    num_0, num_1 = detOpinionSize(attr)\n",
    "    # Part 1: Captures Media Influence; prob of p\n",
    "    if U < p:\n",
    "        u1 = numpy.random.uniform(0,1)\n",
    "        \n",
    "        # random number of 0 opinions update their opinions to 1 \n",
    "        if u1 < .5:\n",
    "            x = genRandInteger(0, num_0)\n",
    "            for i in range(int(x)):\n",
    "                G.node[i] = 1\n",
    "            \n",
    "        # random number of 1 opinion nodes update their opinions to 0\n",
    "        else:\n",
    "            x = genRandInteger(0, num_1)\n",
    "            for i in range(int(x)):\n",
    "                G.node[i] = 0\n",
    "    \n",
    "    # Part 2: captures the node-to-node interactions; prob of 1-p\n",
    "    else:\n",
    "        # chose a random agent\n",
    "        agent_i = genRandInteger(0, numAgents)\n",
    "    \n",
    "        # chose a random agent that agent before chooses\n",
    "        agent_j = genRandInteger(0, numAgents, cant = agent_i)\n",
    "        \n",
    "        # ith agent assumes the opinion of jth adgent if they're different\n",
    "        if G.node[agent_i] != G.node[agent_j]:\n",
    "            G.node[agent_i] = G.node[agent_j]\n",
    "\n",
    "            \n",
    "from itertools import count\n",
    "attributes = nx.get_node_attributes(G, 'group')\n",
    "#groups = set(nx.get_node_attributes(G,'group').values())\n",
    "nx.draw(G)\n",
    "#plt.show()"
   ]
  },
  {
   "cell_type": "code",
   "execution_count": null,
   "metadata": {
    "collapsed": true
   },
   "outputs": [],
   "source": []
  }
 ],
 "metadata": {
  "kernelspec": {
   "display_name": "Python 2",
   "language": "python",
   "name": "python2"
  },
  "language_info": {
   "codemirror_mode": {
    "name": "ipython",
    "version": 2
   },
   "file_extension": ".py",
   "mimetype": "text/x-python",
   "name": "python",
   "nbconvert_exporter": "python",
   "pygments_lexer": "ipython2",
   "version": "2.7.10"
  }
 },
 "nbformat": 4,
 "nbformat_minor": 0
}
