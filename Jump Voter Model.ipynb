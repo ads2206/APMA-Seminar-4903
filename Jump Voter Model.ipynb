{
 "cells": [
  {
   "cell_type": "code",
   "execution_count": 1,
   "metadata": {
    "collapsed": true
   },
   "outputs": [],
   "source": [
    "import numpy\n",
    "import math \n",
    "import matplotlib.pyplot as plt\n",
    "import networkx as nx"
   ]
  },
  {
   "cell_type": "code",
   "execution_count": 2,
   "metadata": {
    "collapsed": true
   },
   "outputs": [],
   "source": [
    "def genRandInteger(a, b, cant = None):\n",
    "    ''' This function generates a random integer in the integer range [a, b]'''\n",
    "    import numpy, math\n",
    "    \n",
    "    if cant != None:\n",
    "        U = numpy.random.uniform(a,b)\n",
    "        return math.floor(U)\n",
    "    else:\n",
    "        while(True):\n",
    "            U = math.floor( numpy.random.uniform(a,b) )\n",
    "            if U != cant:\n",
    "                break\n",
    "        return U\n",
    "def detOpinionSize(attr):\n",
    "    ''' Given alist of attributes in which each \n",
    "        element is list of size two where its second element is its \n",
    "        opinion and the first element is its node index, we output the number \n",
    "        of nodes of opinion 0 and nodes of opinion 1'''\n",
    "    num_0 = num_1 = 0\n",
    "    for i in range(len(attr)):\n",
    "        if attr[i][1]['opinion'] == 0:\n",
    "            num_0 += 1\n",
    "        if attr[i][1]['opinion'] == 1:\n",
    "            num_1 += 1\n",
    "    return (num_0, num_1)\n",
    "        "
   ]
  },
  {
   "cell_type": "code",
   "execution_count": 3,
   "metadata": {
    "collapsed": false
   },
   "outputs": [],
   "source": [
    "# Generate a Complete Graph!\n",
    "numAgents = 20\n",
    "numEdges = .5 * numAgents*(numAgents-1)\n",
    "G = nx.gnm_random_graph(numAgents, numEdges)\n",
    "\n",
    "#G = nx.complete_graph(numAgents)\n",
    "\n"
   ]
  },
  {
   "cell_type": "code",
   "execution_count": null,
   "metadata": {
    "collapsed": false
   },
   "outputs": [],
   "source": [
    "# initializaiton of attributes i.e initiatilization of binary opinion space\n",
    "for i in range(numAgents):\n",
    "    U = numpy.random.uniform(0,1)\n",
    "    if U < .5:\n",
    "        G.node[i] = {'opinion': 0}\n",
    "    else:\n",
    "        G.node[i] = {'opinion': 1}\n",
    "\n",
    "attr = G.nodes(data = True)\n",
    "attributes = nx.get_node_attributes(G, 'opinion')\n",
    "            \n",
    "from itertools import count\n",
    "attributes = nx.get_node_attributes(G, 'opinion')\n",
    "groups = set(nx.get_node_attributes(G,'opinion').values())\n",
    "mapping = dict(zip(sorted(groups),count()))\n",
    "nodes = G.nodes()\n",
    "colors = [mapping[G.node[n]['opinion']] for n in nodes]\n",
    "\n",
    "# drawing nodes and edges separately so we can capture collection for colobar\n",
    "pos = nx.spring_layout(G)\n",
    "ec = nx.draw_networkx_edges(G, pos, alpha=0.2)\n",
    "nc = nx.draw_networkx_nodes(G, pos, nodelist=nodes, node_color=colors, \n",
    "                            with_labels=False, node_size=100, cmap=plt.cm.jet)\n",
    "plt.colorbar(nc)\n",
    "plt.axis('off')\n",
    "plt.savefig('initial.png')\n",
    "plt.show()"
   ]
  },
  {
   "cell_type": "code",
   "execution_count": null,
   "metadata": {
    "collapsed": false
   },
   "outputs": [],
   "source": [
    "# discretization of time \n",
    "t = numpy.linspace(0, 100, 1000)\n",
    "dt = t[1] - t[0]\n",
    "\n",
    "#begin discrete time process\n",
    "p = .1\n",
    "\n",
    "for (ithTime, time) in enumerate(t):\n",
    "    \n",
    "    U = numpy.random.uniform(0,1)\n",
    "    num_0, num_1 = detOpinionSize(attr)\n",
    "    # Part 1: Captures Media Influence; prob of p\n",
    "    if U < p:\n",
    "        u1 = numpy.random.uniform(0,1)\n",
    "        \n",
    "        # random number of 0 opinions update their opinions to 1 \n",
    "        if u1 < .5:\n",
    "            x = genRandInteger(0, num_0)\n",
    "            for i in range(int(x)):\n",
    "                G.node[i]['opinion'] = 1\n",
    "            \n",
    "        # random number of 1 opinion nodes update their opinions to 0\n",
    "        else:\n",
    "            x = genRandInteger(0, num_1)\n",
    "            for i in range(int(x)):\n",
    "                G.node[i]['opinion'] = 0\n",
    "    \n",
    "    # Part 2: captures the node-to-node interactions; prob of 1-p\n",
    "    else:\n",
    "        # chose a random agent\n",
    "        agent_i = genRandInteger(0, numAgents)\n",
    "    \n",
    "        # chose a random agent that agent before chooses\n",
    "        agent_j = genRandInteger(0, numAgents, cant = agent_i)\n",
    "        \n",
    "        # ith agent assumes the opinion of jth adgent if they're different\n",
    "        if G.node[agent_i]['opinion'] != G.node[agent_j]['opinion']:\n",
    "            G.node[agent_i]['opinion'] = G.node[agent_j]['opinion']\n",
    "    if (ithTime % 3000) == 0:\n",
    "        \n",
    "        attributes = nx.get_node_attributes(G, 'opinion')\n",
    "        groups = set(nx.get_node_attributes(G,'opinion').values())\n",
    "        mapping = dict(zip(sorted(groups),count()))\n",
    "        nodes = G.nodes()\n",
    "        colors = [mapping[G.node[n]['opinion']] for n in nodes]\n",
    "\n",
    "        # drawing nodes and edges separately so we can capture collection for colobar\n",
    "        pos = nx.spring_layout(G)\n",
    "        ec = nx.draw_networkx_edges(G, pos, alpha=.1)\n",
    "        nc = nx.draw_networkx_nodes(G, pos, nodelist=nodes, node_color=colors, \n",
    "                                    with_labels=True, node_size=100, cmap=plt.cm.jet)\n",
    "        plt.colorbar(nc)\n",
    "        plt.axis('on')\n",
    "\n",
    "        #plt.show()"
   ]
  },
  {
   "cell_type": "code",
   "execution_count": null,
   "metadata": {
    "collapsed": true
   },
   "outputs": [],
   "source": []
  }
 ],
 "metadata": {
  "kernelspec": {
   "display_name": "Python 2",
   "language": "python",
   "name": "python2"
  },
  "language_info": {
   "codemirror_mode": {
    "name": "ipython",
    "version": 2
   },
   "file_extension": ".py",
   "mimetype": "text/x-python",
   "name": "python",
   "nbconvert_exporter": "python",
   "pygments_lexer": "ipython2",
   "version": "2.7.10"
  }
 },
 "nbformat": 4,
 "nbformat_minor": 0
}
